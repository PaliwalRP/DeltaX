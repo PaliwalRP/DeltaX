{
 "cells": [
  {
   "cell_type": "code",
   "execution_count": 1,
   "metadata": {},
   "outputs": [],
   "source": [
    "import matplotlib.pyplot as plt\n",
    "import numpy as np\n",
    "import tensorflow as tf\n",
    "import pathlib\n",
    "from tensorflow import keras\n",
    "from tensorflow.keras.models import Sequential\n",
    "from tensorflow.keras import layers\n",
    "import tkinter as tk\n",
    "from tkinter import filedialog"
   ]
  },
  {
   "cell_type": "code",
   "execution_count": 2,
   "metadata": {},
   "outputs": [],
   "source": [
    "data_dir = \"A:/Jupyter/train\"\n",
    "data_dir = pathlib.Path(data_dir)"
   ]
  },
  {
   "cell_type": "code",
   "execution_count": 3,
   "metadata": {},
   "outputs": [],
   "source": [
    "batch_size = 16\n",
    "img_height = 224\n",
    "img_width = 224"
   ]
  },
  {
   "cell_type": "code",
   "execution_count": 4,
   "metadata": {},
   "outputs": [
    {
     "name": "stdout",
     "output_type": "stream",
     "text": [
      "Found 2637 files belonging to 2 classes.\n",
      "Using 2110 files for training.\n"
     ]
    }
   ],
   "source": [
    "train_ds = tf.keras.preprocessing.image_dataset_from_directory(\n",
    "data_dir,validation_split=0.2,subset=\"training\",seed=123,\n",
    "image_size=(img_height, img_width),batch_size=batch_size)"
   ]
  },
  {
   "cell_type": "code",
   "execution_count": 5,
   "metadata": {},
   "outputs": [
    {
     "name": "stdout",
     "output_type": "stream",
     "text": [
      "Found 2637 files belonging to 2 classes.\n",
      "Using 527 files for validation.\n"
     ]
    }
   ],
   "source": [
    "val_ds = tf.keras.preprocessing.image_dataset_from_directory(\n",
    "data_dir,validation_split=0.2,subset=\"validation\",seed=123,\n",
    "image_size=(img_height, img_width),batch_size=batch_size)"
   ]
  },
  {
   "cell_type": "code",
   "execution_count": 6,
   "metadata": {},
   "outputs": [
    {
     "name": "stdout",
     "output_type": "stream",
     "text": [
      "['benign', 'malignant']\n"
     ]
    }
   ],
   "source": [
    "class_names = train_ds.class_names\n",
    "print(class_names)"
   ]
  },
  {
   "cell_type": "code",
   "execution_count": 7,
   "metadata": {},
   "outputs": [],
   "source": [
    "AUTOTUNE = tf.data.experimental.AUTOTUNE # it will decrease the time for training \n",
    "\n",
    "train_ds = train_ds.cache().shuffle(1000).prefetch(buffer_size=AUTOTUNE)\n",
    "val_ds = val_ds.cache().prefetch(buffer_size=AUTOTUNE)"
   ]
  },
  {
   "cell_type": "code",
   "execution_count": 8,
   "metadata": {},
   "outputs": [],
   "source": [
    "num_classes = 2"
   ]
  },
  {
   "cell_type": "code",
   "execution_count": 9,
   "metadata": {},
   "outputs": [],
   "source": [
    "model= Sequential([\n",
    "    layers.experimental.preprocessing.Rescaling(1./255,input_shape=(img_height,img_width,3)),\n",
    "    layers.Conv2D(16,3,padding='same',activation='relu'), # padding = 'same' means output is the same size as input. and kernal size (3 x 3)\n",
    "                                                        # here we learn a total of 16 filters. Max pooling is then used to reduce the spatial dimensions of the output volume.\n",
    "    layers.MaxPooling2D(),\n",
    "    layers.Conv2D(32,3,padding='same',activation='relu'), # as we are going closer to the output ,, we learn more numbers of filter here is 32.\n",
    "                                                        # whenever layers.Conv2D called previous layers.Conv2D become input for it . \n",
    "    layers.MaxPooling2D(),\n",
    "    layers.Conv2D(64,3,padding='same',activation='relu'),# final Conv2D layer learns 64 filters.\n",
    "    layers.MaxPooling2D(),\n",
    "    layers.Dropout(0.2), # Dropout’s purpose is to help your network generalize and not overfit. \n",
    "    \n",
    "    # Fully connected layer\n",
    "    layers.Flatten(), # it will convert 2d image array to 1d\n",
    "    layers.Dense(64,activation='relu'), # (hidden layer) here we are catching 64 nodes that we passed it in the ConveD ,, if we reduse it to 50 or something else we may loss some features\n",
    "    layers.Dense(num_classes) # (hidden layer) here all the 64 nodes connected to 2 output as it is number of classes \n",
    "])"
   ]
  },
  {
   "cell_type": "code",
   "execution_count": 10,
   "metadata": {},
   "outputs": [
    {
     "name": "stdout",
     "output_type": "stream",
     "text": [
      "Model: \"sequential\"\n",
      "_________________________________________________________________\n",
      " Layer (type)                Output Shape              Param #   \n",
      "=================================================================\n",
      " rescaling (Rescaling)       (None, 224, 224, 3)       0         \n",
      "                                                                 \n",
      " conv2d (Conv2D)             (None, 224, 224, 16)      448       \n",
      "                                                                 \n",
      " max_pooling2d (MaxPooling2D  (None, 112, 112, 16)     0         \n",
      " )                                                               \n",
      "                                                                 \n",
      " conv2d_1 (Conv2D)           (None, 112, 112, 32)      4640      \n",
      "                                                                 \n",
      " max_pooling2d_1 (MaxPooling  (None, 56, 56, 32)       0         \n",
      " 2D)                                                             \n",
      "                                                                 \n",
      " conv2d_2 (Conv2D)           (None, 56, 56, 64)        18496     \n",
      "                                                                 \n",
      " max_pooling2d_2 (MaxPooling  (None, 28, 28, 64)       0         \n",
      " 2D)                                                             \n",
      "                                                                 \n",
      " dropout (Dropout)           (None, 28, 28, 64)        0         \n",
      "                                                                 \n",
      " flatten (Flatten)           (None, 50176)             0         \n",
      "                                                                 \n",
      " dense (Dense)               (None, 64)                3211328   \n",
      "                                                                 \n",
      " dense_1 (Dense)             (None, 2)                 130       \n",
      "                                                                 \n",
      "=================================================================\n",
      "Total params: 3,235,042\n",
      "Trainable params: 3,235,042\n",
      "Non-trainable params: 0\n",
      "_________________________________________________________________\n"
     ]
    }
   ],
   "source": [
    "model.summary()"
   ]
  },
  {
   "cell_type": "code",
   "execution_count": 11,
   "metadata": {},
   "outputs": [
    {
     "name": "stdout",
     "output_type": "stream",
     "text": [
      "Epoch 1/7\n",
      "132/132 [==============================] - 72s 508ms/step - loss: 0.6904 - accuracy: 0.6280 - val_loss: 0.4874 - val_accuracy: 0.8008\n",
      "Epoch 2/7\n",
      "132/132 [==============================] - 67s 505ms/step - loss: 0.4684 - accuracy: 0.7763 - val_loss: 0.4280 - val_accuracy: 0.7932\n",
      "Epoch 3/7\n",
      "132/132 [==============================] - 69s 525ms/step - loss: 0.4314 - accuracy: 0.7877 - val_loss: 0.4201 - val_accuracy: 0.7970\n",
      "Epoch 4/7\n",
      "132/132 [==============================] - 69s 526ms/step - loss: 0.3965 - accuracy: 0.8009 - val_loss: 0.3568 - val_accuracy: 0.8235\n",
      "Epoch 5/7\n",
      "132/132 [==============================] - 68s 517ms/step - loss: 0.3752 - accuracy: 0.8100 - val_loss: 0.3831 - val_accuracy: 0.8121\n",
      "Epoch 6/7\n",
      "132/132 [==============================] - 67s 505ms/step - loss: 0.3718 - accuracy: 0.8090 - val_loss: 0.3591 - val_accuracy: 0.8292\n",
      "Epoch 7/7\n",
      "132/132 [==============================] - 67s 504ms/step - loss: 0.3159 - accuracy: 0.8408 - val_loss: 0.3284 - val_accuracy: 0.8330\n"
     ]
    }
   ],
   "source": [
    "noepochs=7\n",
    "model.compile(optimizer='adam',loss=tf.keras.losses.SparseCategoricalCrossentropy(from_logits=True),metrics=['accuracy'])\n",
    "mymodel = model.fit(train_ds,validation_data=val_ds,epochs=noepochs)\n",
    "\n",
    "acc = mymodel.history['accuracy']\n",
    "val_acc = mymodel.history['val_accuracy']\n",
    "loss = mymodel.history['loss']\n",
    "val_loss=mymodel.history['val_loss']\n",
    "epochs_range = range(noepochs)"
   ]
  },
  {
   "cell_type": "code",
   "execution_count": 12,
   "metadata": {},
   "outputs": [
    {
     "data": {
      "text/plain": [
       "Text(0.5, 1.0, 'Training and Validation Accuracy')"
      ]
     },
     "execution_count": 12,
     "metadata": {},
     "output_type": "execute_result"
    },
    {
     "data": {
      "image/png": "[encoded data removed]",
      "text/plain": [
       "<Figure size 1080x1080 with 1 Axes>"
      ]
     },
     "metadata": {
      "needs_background": "light"
     },
     "output_type": "display_data"
    }
   ],
   "source": [
    "plt.figure(figsize=(15,15))\n",
    "plt.subplot(1,2,1)\n",
    "plt.plot(epochs_range,acc,label='Training Accuracy')\n",
    "plt.plot(epochs_range,val_acc,label='Validation Accuracy')\n",
    "plt.legend(loc='lower right')\n",
    "plt.title('Training and Validation Accuracy')"
   ]
  },
  {
   "cell_type": "code",
   "execution_count": 13,
   "metadata": {},
   "outputs": [
    {
     "data": {
      "image/png": "[encoded data removed]",
      "text/plain": [
       "<Figure size 432x288 with 1 Axes>"
      ]
     },
     "metadata": {
      "needs_background": "light"
     },
     "output_type": "display_data"
    }
   ],
   "source": [
    "plt.subplot(1,2,2)\n",
    "plt.plot(epochs_range,loss,label='Training Loss')\n",
    "plt.plot(epochs_range,val_loss,label='Validation Loss')\n",
    "plt.legend(loc='upper right')\n",
    "plt.title('Training and Validation loss')\n",
    "plt.show()"
   ]
  },
  {
   "cell_type": "code",
   "execution_count": 14,
   "metadata": {},
   "outputs": [],
   "source": [
    "def recogout():\n",
    "    root = tk.Tk()\n",
    "    root.withdraw()\n",
    "    img_path = filedialog.askopenfilename()\n",
    "    img = keras.preprocessing.image.load_img(img_path,target_size=(img_height,img_width))\n",
    "    img_array = keras.preprocessing.image.img_to_array(img)\n",
    "    img_array = tf.expand_dims(img_array,0)\n",
    "    predictions = model.predict(img_array)\n",
    "    score = tf.nn.softmax(predictions[0])\n",
    "    print(\"This image most likely belong to {} with a {:.2f} percent confidence\".format(class_names[np.argmax(score)], 100 * np.max(score))\n",
    ")"
   ]
  },
  {
   "cell_type": "code",
   "execution_count": 15,
   "metadata": {},
   "outputs": [
    {
     "name": "stdout",
     "output_type": "stream",
     "text": [
      "This image most likely belong to benign with a 73.81 percent confidence\n"
     ]
    }
   ],
   "source": [
    "recogout()"
   ]
  },
  {
   "cell_type": "code",
   "execution_count": 17,
   "metadata": {},
   "outputs": [
    {
     "name": "stdout",
     "output_type": "stream",
     "text": [
      "This image most likely belong to malignant with a 95.48 percent confidence\n"
     ]
    }
   ],
   "source": [
    "recogout()"
   ]
  },
  {
   "cell_type": "code",
   "execution_count": null,
   "metadata": {},
   "outputs": [],
   "source": []
  }
 ],
 "metadata": {
  "kernelspec": {
   "display_name": "Python 3 (ipykernel)",
   "language": "python",
   "name": "python3"
  },
  "language_info": {
   "codemirror_mode": {
    "name": "ipython",
    "version": 3
   },
   "file_extension": ".py",
   "mimetype": "text/x-python",
   "name": "python",
   "nbconvert_exporter": "python",
   "pygments_lexer": "ipython3",
   "version": "3.9.6"
  }
 },
 "nbformat": 4,
 "nbformat_minor": 2
}
